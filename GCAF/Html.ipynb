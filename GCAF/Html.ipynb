{
  "nbformat": 4,
  "nbformat_minor": 0,
  "metadata": {
    "colab": {
      "provenance": [],
      "authorship_tag": "ABX9TyO9wdqWsDwJgja8vtpxF6z/",
      "include_colab_link": true
    },
    "kernelspec": {
      "name": "python3",
      "display_name": "Python 3"
    },
    "language_info": {
      "name": "python"
    }
  },
  "cells": [
    {
      "cell_type": "markdown",
      "metadata": {
        "id": "view-in-github",
        "colab_type": "text"
      },
      "source": [
        "<a href=\"https://colab.research.google.com/github/M339KUMAR/ColabDemoFiles/blob/main/GCAF/Html.ipynb\" target=\"_parent\"><img src=\"https://colab.research.google.com/assets/colab-badge.svg\" alt=\"Open In Colab\"/></a>"
      ]
    },
    {
      "cell_type": "code",
      "execution_count": null,
      "metadata": {
        "id": "zugwDtLpZtxO"
      },
      "outputs": [],
      "source": [
        "%%writefile ex1.html\n",
        "\n",
        "<b>Bagging & Boosting</b>"
      ]
    },
    {
      "cell_type": "code",
      "source": [
        "from IPython.display import HTML\n",
        "\n",
        "HTML('''\n",
        "<h6><span style='color=red;'>Bagging & Boosting</span></h6>\n",
        "<h6 style='color=red;'>Bagging & Boosting</h6>\n",
        "\n",
        "<p>This is a paragraph in HTML.</p>\n",
        "''')"
      ],
      "metadata": {
        "id": "m3pdet7uaXLF"
      },
      "execution_count": null,
      "outputs": []
    },
    {
      "cell_type": "code",
      "source": [
        "from IPython.display import IFrame\n",
        "\n",
        "IFrame(src='/content/ex1.html', width=200, height=100)"
      ],
      "metadata": {
        "id": "qsYqUL2aa5Ps",
        "outputId": "8158c23b-0965-44f4-ec94-8268dc2f5e13",
        "colab": {
          "base_uri": "https://localhost:8080/",
          "height": 121
        }
      },
      "execution_count": null,
      "outputs": [
        {
          "output_type": "execute_result",
          "data": {
            "text/plain": [
              "<IPython.lib.display.IFrame at 0x78f322ca1850>"
            ],
            "text/html": [
              "\n",
              "        <iframe\n",
              "            width=\"200\"\n",
              "            height=\"100\"\n",
              "            src=\"/content/ex1.html\"\n",
              "            frameborder=\"0\"\n",
              "            allowfullscreen\n",
              "            \n",
              "        ></iframe>\n",
              "        "
            ]
          },
          "metadata": {},
          "execution_count": 2
        }
      ]
    },
    {
      "cell_type": "code",
      "source": [
        "from flask import Flask, render_template\n",
        "\n",
        "app = Flask(__name__, template_folder='/content/gdrive/MyDrive/templates')\n",
        "\n",
        "@app.route('/')\n",
        "def home():\n",
        "    return render_template('my_template.html')\n",
        "\n",
        "if __name__ == '__main__':\n",
        "    app.run()"
      ],
      "metadata": {
        "colab": {
          "base_uri": "https://localhost:8080/"
        },
        "id": "_oL951zQbtgj",
        "outputId": "556518c6-b699-4db9-bb6a-d25edf8c29cd"
      },
      "execution_count": null,
      "outputs": [
        {
          "output_type": "stream",
          "name": "stdout",
          "text": [
            " * Serving Flask app '__main__'\n",
            " * Debug mode: off\n"
          ]
        },
        {
          "output_type": "stream",
          "name": "stderr",
          "text": [
            "INFO:werkzeug:\u001b[31m\u001b[1mWARNING: This is a development server. Do not use it in a production deployment. Use a production WSGI server instead.\u001b[0m\n",
            " * Running on http://127.0.0.1:5000\n",
            "INFO:werkzeug:\u001b[33mPress CTRL+C to quit\u001b[0m\n"
          ]
        }
      ]
    },
    {
      "cell_type": "code",
      "source": [
        "%%html\n",
        "<style>\n",
        "div.warn {\n",
        "    color: #956C99;\n",
        "    background-color: #D4EAF7;\n",
        "    border-left: 5px solid #3C82E3;\n",
        "    padding: 0.5em;\n",
        "    }\n",
        "</style>\n",
        "<div class=warn>\n",
        "Use blue boxes (alert-info) for tips and notes.\n",
        "If it’s a note, you don’t have to include the word “Note”.\n",
        "</div>"
      ],
      "metadata": {
        "id": "aV8WDJkvb89k",
        "colab": {
          "base_uri": "https://localhost:8080/",
          "height": 83
        },
        "outputId": "11af23cc-02e4-4ca4-8c46-f07daab9d243"
      },
      "execution_count": null,
      "outputs": [
        {
          "output_type": "display_data",
          "data": {
            "text/plain": [
              "<IPython.core.display.HTML object>"
            ],
            "text/html": [
              "<style>\n",
              "div.warn {\n",
              "    color: #956C99;\n",
              "    background-color: #D4EAF7;\n",
              "    border-left: 5px solid #3C82E3;\n",
              "    padding: 0.5em;\n",
              "    }\n",
              "</style>\n",
              "<div class=warn>\n",
              "Use blue boxes (alert-info) for tips and notes.\n",
              "If it’s a note, you don’t have to include the word “Note”.\n",
              "</div>\n"
            ]
          },
          "metadata": {}
        }
      ]
    }
  ]
}