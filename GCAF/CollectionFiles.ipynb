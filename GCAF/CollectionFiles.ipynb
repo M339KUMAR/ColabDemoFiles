{
  "nbformat": 4,
  "nbformat_minor": 0,
  "metadata": {
    "colab": {
      "provenance": [],
      "authorship_tag": "ABX9TyMCp9Md4qPadzutTPtJrknf",
      "include_colab_link": true
    },
    "kernelspec": {
      "name": "python3",
      "display_name": "Python 3"
    },
    "language_info": {
      "name": "python"
    }
  },
  "cells": [
    {
      "cell_type": "markdown",
      "metadata": {
        "id": "view-in-github",
        "colab_type": "text"
      },
      "source": [
        "<a href=\"https://colab.research.google.com/github/M339KUMAR/ColabDemoFiles/blob/main/GCAF/CollectionFiles.ipynb\" target=\"_parent\"><img src=\"https://colab.research.google.com/assets/colab-badge.svg\" alt=\"Open In Colab\"/></a>"
      ]
    },
    {
      "cell_type": "markdown",
      "source": [
        "####Building files"
      ],
      "metadata": {
        "id": "5WwZ2LWag_Xa"
      }
    },
    {
      "cell_type": "code",
      "execution_count": null,
      "metadata": {
        "colab": {
          "base_uri": "https://localhost:8080/"
        },
        "id": "uH4hGy0ig3KC",
        "outputId": "11a96c54-a041-4346-ccf1-d8351e45ace7"
      },
      "outputs": [
        {
          "output_type": "stream",
          "name": "stdout",
          "text": [
            "Writing Person.py\n"
          ]
        }
      ],
      "source": [
        "%%writefile Person.py\n",
        "\n",
        "class Person():\n",
        "\n",
        "    def __init__(self, name, age):\n",
        "        self.name=name\n",
        "        self.age=age\n",
        "\n",
        "    def speak(self, name, age):\n",
        "        print(f\"Hi {self.name} Hello:\")\n",
        "\n",
        "    def walk(self):\n",
        "        print(f\"Hi {self.name} is walking:\")\n",
        "\n",
        "    def eat(self, name, age):\n",
        "        print(f\"Hi {self.name} is Eating:\")\n",
        "\n",
        "    def sleep(self, name, age):\n",
        "        print(f\"Hi {self.name} is Sleeping:\")\n",
        "\n",
        "    #def main():\n",
        "bob=Person('bob',25)#----->works\n",
        "tom=Person('tom',35)#----->works\n",
        "#bob=Person()-------->Not Work\n",
        "#tom=Person()-------->Not Work\n",
        "if __name__==\"__main__\":\n",
        "   print(f\"Running {bob.__class__.__name__}\")\n",
        "   bob.speak('bob', 25)\n",
        "   tom.speak('tom', 35)\n",
        "   bob.walk()\n",
        "   tom.walk()"
      ]
    },
    {
      "cell_type": "code",
      "source": [
        "#%%script python3 Person"
      ],
      "metadata": {
        "id": "aDQJgHVWiQfR"
      },
      "execution_count": null,
      "outputs": []
    },
    {
      "cell_type": "code",
      "source": [
        "!python Person.py"
      ],
      "metadata": {
        "colab": {
          "base_uri": "https://localhost:8080/"
        },
        "id": "GzPL_pQvi5cJ",
        "outputId": "b85bec90-cc92-45fd-f6f5-14cdc2b7027b"
      },
      "execution_count": null,
      "outputs": [
        {
          "output_type": "stream",
          "name": "stdout",
          "text": [
            "Running Person\n",
            "Hi bob Hello:\n",
            "Hi tom Hello:\n",
            "Hi bob is walking:\n",
            "Hi tom is walking:\n"
          ]
        }
      ]
    }
  ]
}