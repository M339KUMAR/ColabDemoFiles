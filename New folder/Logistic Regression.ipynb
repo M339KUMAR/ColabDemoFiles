{
 "cells": [
  {
   "cell_type": "markdown",
   "id": "acd33887",
   "metadata": {},
   "source": [
    "<div style='text-align: center;'>\n",
    "    <h1><b>Machine Learning for Engineering and Science Applications</b></h1>\n",
    "    <h2>Week-5 Logistic Regression</h2>\n",
    "</div>"
   ]
  },
  {
   "cell_type": "markdown",
   "id": "c5e09189",
   "metadata": {},
   "source": [
    "Pre-requisite to understand the code\n",
    "* Basic Knowledge in Python\n",
    "* Knowledge on Vectorization and Vector Manipulation\n",
    "<br>\n",
    "<br>\n",
    "\n",
    "Resources for understanding this section\n",
    "1. MLESA Week - 5 Lecture (https://nptel.ac.in/courses/106106198)\n",
    "\n",
    "<br>"
   ]
  },
  {
   "cell_type": "code",
   "execution_count": 1,
   "id": "c435eaa8",
   "metadata": {},
   "outputs": [],
   "source": [
    "# Import necessary libraries\n",
    "import numpy as np\n",
    "import matplotlib.pyplot as plt"
   ]
  },
  {
   "cell_type": "markdown",
   "id": "33c4e2ec",
   "metadata": {},
   "source": [
    "<div style='text-align: center;'>\n",
    "    <h2>A. Logistic Regression Model</h2>\n",
    "</div>"
   ]
  },
  {
   "cell_type": "code",
   "execution_count": 2,
   "id": "443ea0cc",
   "metadata": {},
   "outputs": [],
   "source": [
    "# General Logistic Regression Model - Only 2 weights (Binomial Classification)\n",
    "class GeneralLogisticRegression:\n",
    "    \n",
    "    def __init__(self, x, y, learning_rate, epoch):\n",
    "        # Augment 1 to every instance to accomodate for the Bias\n",
    "        self.x = np.insert(x, 0, 1, axis=1)\n",
    "        self.y = y\n",
    "        self.alpha = learning_rate\n",
    "        self.epoch = epoch\n",
    "        # Initiate gradients and weights to zero\n",
    "        # Number of Samples and Number of Features\n",
    "        self.samples, self.features = self.x.shape\n",
    "        self.w = np.zeros(self.features)\n",
    "        self.gradient = np.zeros(self.features)\n",
    "    \n",
    "    # Sigmoid function           \n",
    "    def sigmoid(self, z):\n",
    "        return np.exp(-z)/(1 + np.exp(-z))\n",
    "    \n",
    "    # Binary Cross Entropy loss function\n",
    "    def compute_loss(self):\n",
    "        bce = (self.y*np.log(self.y_hat)) + ((1-self.y)*np.log(1-self.y_hat))\n",
    "        loss = -np.mean(bce)\n",
    "        return loss\n",
    "    \n",
    "    # Compute gradients\n",
    "    def compute_gradient(self):\n",
    "        return np.matmul(self.x.T,(self.y - self.y_hat))\n",
    "    \n",
    "    # Compute Weight using the Gradient descent\n",
    "    def train(self):\n",
    "        self.loss_history=[]            \n",
    "        for i in range(self.epoch):\n",
    "            # Predict and Calculate Loss\n",
    "                z = np.dot(self.x,self.w)\n",
    "                self.y_hat = self.sigmoid(z)\n",
    "                loss = self.compute_loss() \n",
    "                self.loss_history.append(loss)\n",
    "            # Perform optimization\n",
    "                # Compute gradient\n",
    "                self.gradient = self.compute_gradient()\n",
    "                # Update weights\n",
    "                self.w = self.w - (self.alpha * self.gradient)\n",
    "        return self.w\n",
    "    \n",
    "    # Predict values for new data\n",
    "    def predict(self, x):\n",
    "        z = np.dot(self.x, self.w)\n",
    "        probabilities = self.sigmoid(z)\n",
    "        return [1 if p > 0.5 else 0 for p in probabilities]"
   ]
  },
  {
   "cell_type": "markdown",
   "id": "3dfac8c7",
   "metadata": {},
   "source": [
    "<div style='text-align: center;'>\n",
    "    <h2>B. Examples</h2>\n",
    "</div>"
   ]
  },
  {
   "cell_type": "markdown",
   "id": "ec1c8761",
   "metadata": {},
   "source": [
    "<div style='text-align: center;'>\n",
    "    <h3>AND Gate</h3>\n",
    "</div>"
   ]
  },
  {
   "cell_type": "code",
   "execution_count": 3,
   "id": "a21f7158",
   "metadata": {},
   "outputs": [],
   "source": [
    "# AND Gate\n",
    "# Training data\n",
    "X = np.asarray([ [0,0], [0,1], [1,0], [1,1]])\n",
    "Y = np.asarray([0, 0, 0, 1])"
   ]
  },
  {
   "cell_type": "code",
   "execution_count": 4,
   "id": "c2c600c6",
   "metadata": {
    "scrolled": true
   },
   "outputs": [
    {
     "data": {
      "image/png": "[encoded data removed]",
      "text/plain": [
       "<Figure size 432x288 with 1 Axes>"
      ]
     },
     "metadata": {
      "needs_background": "light"
     },
     "output_type": "display_data"
    }
   ],
   "source": [
    "# Distribution of Data\n",
    "plt.scatter(X[:,0], X[:,1], c=['b' if i==1 else 'r' for i in Y], alpha=0.9)\n",
    "plt.title(\"AND Gate\")\n",
    "plt.xlabel(\"X1\")\n",
    "plt.ylabel(\"X2\")\n",
    "plt.show()"
   ]
  },
  {
   "cell_type": "code",
   "execution_count": 5,
   "id": "0cdcb24e",
   "metadata": {},
   "outputs": [],
   "source": [
    "# Initiate Hyperparameters\n",
    "learning_rate = 0.2\n",
    "epochs = 50\n",
    "\n",
    "# Initiate the model\n",
    "and_gate = GeneralLogisticRegression(X, Y, learning_rate, epochs)"
   ]
  },
  {
   "cell_type": "code",
   "execution_count": 6,
   "id": "7175ee11",
   "metadata": {},
   "outputs": [
    {
     "name": "stdout",
     "output_type": "stream",
     "text": [
      "Weights:  [ 2.93115267 -1.7612842  -1.7612842 ]\n"
     ]
    }
   ],
   "source": [
    "# Compute the weights\n",
    "weights = and_gate.train()\n",
    "print(\"Weights: \", weights)"
   ]
  },
  {
   "cell_type": "code",
   "execution_count": 7,
   "id": "682ec2d5",
   "metadata": {},
   "outputs": [
    {
     "data": {
      "image/png": "[encoded data removed]",
      "text/plain": [
       "<Figure size 432x288 with 1 Axes>"
      ]
     },
     "metadata": {
      "needs_background": "light"
     },
     "output_type": "display_data"
    }
   ],
   "source": [
    "# Plot the classifier line\n",
    "plt.scatter(X[:,0], X[:,1], c=['b' if i==1 else 'r' for i in Y], alpha=0.9)\n",
    "plt.title(\"AND Gate\")\n",
    "plt.xlabel(\"X1\")\n",
    "plt.ylabel(\"X2\")\n",
    "\n",
    "j = np.array([0, 1])\n",
    "k = -(j * weights[1] + weights[0]) / weights[2]\n",
    "plt.plot(j, k, color='k', linestyle=\"--\")\n",
    "plt.show()"
   ]
  },
  {
   "cell_type": "code",
   "execution_count": 8,
   "id": "d1697bb3",
   "metadata": {},
   "outputs": [
    {
     "data": {
      "image/png": "[encoded data removed]",
      "text/plain": [
       "<Figure size 720x432 with 1 Axes>"
      ]
     },
     "metadata": {
      "needs_background": "light"
     },
     "output_type": "display_data"
    }
   ],
   "source": [
    "# Plot the loss history\n",
    "fig= plt.figure(figsize=(10,6))\n",
    "plt.title(\"Epochs vs Loss\")\n",
    "plt.xlabel(\"Epochs\")\n",
    "plt.ylabel(\"Loss\")\n",
    "plt.plot(np.arange(epochs),and_gate.loss_history)\n",
    "plt.show()"
   ]
  },
  {
   "cell_type": "markdown",
   "id": "19174b05",
   "metadata": {},
   "source": [
    "<div style='text-align: center;'>\n",
    "    <h3>NOR Gate</h3>\n",
    "</div>"
   ]
  },
  {
   "cell_type": "code",
   "execution_count": 9,
   "id": "99c4ca41",
   "metadata": {},
   "outputs": [],
   "source": [
    "# NOR Gate\n",
    "# Training data\n",
    "X = np.asarray([ [0,0], [0,1], [1,0], [1,1]])\n",
    "Y = np.asarray([1, 0, 0, 0])"
   ]
  },
  {
   "cell_type": "code",
   "execution_count": 10,
   "id": "dc0ecb47",
   "metadata": {},
   "outputs": [
    {
     "data": {
      "image/png": "[encoded data removed]",
      "text/plain": [
       "<Figure size 432x288 with 1 Axes>"
      ]
     },
     "metadata": {
      "needs_background": "light"
     },
     "output_type": "display_data"
    }
   ],
   "source": [
    "#Distribution of Data\n",
    "plt.scatter(X[:,0], X[:,1], c=['b' if i==1 else 'r' for i in Y], alpha=0.9)\n",
    "plt.title(\"NOR Gate\")\n",
    "plt.xlabel(\"X1\")\n",
    "plt.ylabel(\"X2\")\n",
    "plt.show()"
   ]
  },
  {
   "cell_type": "code",
   "execution_count": 11,
   "id": "dfd17b21",
   "metadata": {},
   "outputs": [],
   "source": [
    "# Initiate Hyperparameters\n",
    "learning_rate = 0.2\n",
    "epochs = 50\n",
    "\n",
    "# Initiate the model\n",
    "nor_gate = GeneralLogisticRegression(X, Y, learning_rate, epochs)"
   ]
  },
  {
   "cell_type": "code",
   "execution_count": 12,
   "id": "1a0fe1de",
   "metadata": {},
   "outputs": [
    {
     "name": "stdout",
     "output_type": "stream",
     "text": [
      "Weights:  [-0.59183445  2.5123944   2.5123944 ]\n"
     ]
    }
   ],
   "source": [
    "# Compute the weights\n",
    "weights = nor_gate.train()\n",
    "print(\"Weights: \", weights)"
   ]
  },
  {
   "cell_type": "code",
   "execution_count": 13,
   "id": "e439bd92",
   "metadata": {},
   "outputs": [
    {
     "data": {
      "image/png": "[encoded data removed]",
      "text/plain": [
       "<Figure size 432x288 with 1 Axes>"
      ]
     },
     "metadata": {
      "needs_background": "light"
     },
     "output_type": "display_data"
    }
   ],
   "source": [
    "# Plot the classifier line\n",
    "plt.scatter(X[:,0], X[:,1], c=['b' if i==1 else 'r' for i in Y], alpha=0.9)\n",
    "plt.title(\"NOR Gate\")\n",
    "plt.xlabel(\"X1\")\n",
    "plt.ylabel(\"X2\")\n",
    "\n",
    "j = np.array([0, 1])\n",
    "k = -(j * weights[1] + weights[0]) / weights[2]\n",
    "plt.plot(j, k, color='k', linestyle=\"--\")\n",
    "plt.show()"
   ]
  },
  {
   "cell_type": "code",
   "execution_count": 14,
   "id": "09ffb2dd",
   "metadata": {},
   "outputs": [
    {
     "data": {
      "image/png": "[encoded data removed]",
      "text/plain": [
       "<Figure size 720x432 with 1 Axes>"
      ]
     },
     "metadata": {
      "needs_background": "light"
     },
     "output_type": "display_data"
    }
   ],
   "source": [
    "# Plot the loss history\n",
    "fig= plt.figure(figsize=(10,6))\n",
    "plt.title(\"Epochs vs Loss\")\n",
    "plt.xlabel(\"Epochs\")\n",
    "plt.ylabel(\"Loss\")\n",
    "plt.plot(np.arange(epochs),nor_gate.loss_history)\n",
    "plt.show()"
   ]
  },
  {
   "cell_type": "markdown",
   "id": "ce88d8ba",
   "metadata": {},
   "source": [
    "<div style='text-align: center;'>\n",
    "    <h3>XOR Gate</h3>\n",
    "</div>"
   ]
  },
  {
   "cell_type": "code",
   "execution_count": 15,
   "id": "cb329511",
   "metadata": {},
   "outputs": [],
   "source": [
    "# NOR Gate\n",
    "# Training data\n",
    "X = np.asarray([ [0,0], [0,1], [1,0], [1,1]])\n",
    "Y = np.asarray([0, 1, 1, 0])"
   ]
  },
  {
   "cell_type": "code",
   "execution_count": 16,
   "id": "bd4647ea",
   "metadata": {},
   "outputs": [
    {
     "data": {
      "image/png": "[encoded data removed]",
      "text/plain": [
       "<Figure size 432x288 with 1 Axes>"
      ]
     },
     "metadata": {
      "needs_background": "light"
     },
     "output_type": "display_data"
    }
   ],
   "source": [
    "# Distribution of Data\n",
    "plt.scatter(X[:,0], X[:,1], c=['b' if i==1 else 'r' for i in Y], alpha=0.9)\n",
    "plt.title(\"XOR Gate\")\n",
    "plt.xlabel(\"X1\")\n",
    "plt.ylabel(\"X2\")\n",
    "plt.show()"
   ]
  },
  {
   "cell_type": "code",
   "execution_count": 17,
   "id": "93b3ed77",
   "metadata": {},
   "outputs": [],
   "source": [
    "# Initiate Hyperparameters\n",
    "learning_rate = 0.2\n",
    "epochs = 50\n",
    "\n",
    "# Initiate the model\n",
    "xor_gate = GeneralLogisticRegression(X, Y, learning_rate, epochs)"
   ]
  },
  {
   "cell_type": "code",
   "execution_count": 18,
   "id": "84423925",
   "metadata": {},
   "outputs": [
    {
     "name": "stdout",
     "output_type": "stream",
     "text": [
      "Weights:  [0. 0. 0.]\n"
     ]
    }
   ],
   "source": [
    "# Compute the weights\n",
    "weights = xor_gate.train()\n",
    "print(\"Weights: \", weights)"
   ]
  },
  {
   "cell_type": "markdown",
   "id": "3be9b1e8",
   "metadata": {},
   "source": [
    "For XOR gate, weights can't be computed because the ouput is not linearly separable. So, we represent XOR gate in terms of other logic gates.\n",
    "\\\n",
    "\\\n",
    "XOR = NOR(NOR, AND)"
   ]
  },
  {
   "cell_type": "code",
   "execution_count": 19,
   "id": "ef671b70",
   "metadata": {},
   "outputs": [
    {
     "name": "stdout",
     "output_type": "stream",
     "text": [
      "[[0 0]\n",
      " [0 1]\n",
      " [1 0]\n",
      " [1 1]]\n",
      "[1, 0, 0, 0]\n"
     ]
    }
   ],
   "source": [
    "#Computation-1\n",
    "nor_pred = nor_gate.predict(X)\n",
    "and_pred = and_gate.predict(X)\n",
    "\n",
    "#Computation-2\n",
    "a = [[and_pred[i], nor_pred[i]] for i in range(len(nor_pred))] #Intermediate Output\n",
    "xor_pred = nor_gate.predict(a)\n",
    "print(X)\n",
    "print(xor_pred)"
   ]
  },
  {
   "cell_type": "markdown",
   "id": "023003d0",
   "metadata": {},
   "source": [
    "**Note:**\n",
    "\n",
    "If you want to add some additional features to the above implementation, here are a few ideas:\n",
    "\n",
    "1. Return the history of thetas in addition to the history of losses\n",
    "2. Implement early stopping\n",
    "3. Model accuracy visualization in training\n",
    "\n",
    "**Try it out!**\n",
    "1. Try implementing XNOR gate\n",
    "2. Use Least squares cost function and visualize the outputs"
   ]
  }
 ],
 "metadata": {
  "kernelspec": {
   "display_name": "Python 3",
   "language": "python",
   "name": "python3"
  },
  "language_info": {
   "codemirror_mode": {
    "name": "ipython",
    "version": 3
   },
   "file_extension": ".py",
   "mimetype": "text/x-python",
   "name": "python",
   "nbconvert_exporter": "python",
   "pygments_lexer": "ipython3",
   "version": "3.8.8"
  }
 },
 "nbformat": 4,
 "nbformat_minor": 5
}
