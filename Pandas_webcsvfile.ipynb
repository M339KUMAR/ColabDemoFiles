{
  "nbformat": 4,
  "nbformat_minor": 0,
  "metadata": {
    "colab": {
      "provenance": [],
      "authorship_tag": "ABX9TyPyalslYrB44IBAijtGRQEF",
      "include_colab_link": true
    },
    "kernelspec": {
      "name": "python3",
      "display_name": "Python 3"
    },
    "language_info": {
      "name": "python"
    }
  },
  "cells": [
    {
      "cell_type": "markdown",
      "metadata": {
        "id": "view-in-github",
        "colab_type": "text"
      },
      "source": [
        "<a href=\"https://colab.research.google.com/github/M339KUMAR/ColabDemoFiles/blob/main/Pandas_webcsvfile.ipynb\" target=\"_parent\"><img src=\"https://colab.research.google.com/assets/colab-badge.svg\" alt=\"Open In Colab\"/></a>"
      ]
    },
    {
      "cell_type": "markdown",
      "source": [
        "#Pandas Demo"
      ],
      "metadata": {
        "id": "fEAgTa9nJMpJ"
      }
    },
    {
      "cell_type": "code",
      "execution_count": 16,
      "metadata": {
        "colab": {
          "base_uri": "https://localhost:8080/",
          "height": 427
        },
        "id": "ib4G9OqXJJ7K",
        "outputId": "e382a2e1-a131-4ebf-f368-d7e21bd803a9"
      },
      "outputs": [
        {
          "output_type": "stream",
          "name": "stdout",
          "text": [
            "sum of colum a=: 2.49450034988889\n",
            "<class 'pandas.core.frame.DataFrame'>\n",
            "RangeIndex: 10 entries, 0 to 9\n",
            "Data columns (total 4 columns):\n",
            " #   Column  Non-Null Count  Dtype  \n",
            "---  ------  --------------  -----  \n",
            " 0   a       10 non-null     float64\n",
            " 1   b       10 non-null     float64\n",
            " 2   c       10 non-null     float64\n",
            " 3   d       10 non-null     float64\n",
            "dtypes: float64(4)\n",
            "memory usage: 448.0 bytes\n"
          ]
        },
        {
          "output_type": "display_data",
          "data": {
            "text/plain": [
              "<Figure size 640x480 with 1 Axes>"
            ],
            "image/png": "[encoded data removed]"
          },
          "metadata": {}
        }
      ],
      "source": [
        "import pandas as pd\n",
        "import numpy as np\n",
        "%matplotlib inline\n",
        "\n",
        "#https://www.stats.govt.nz/large-datasets/csv-files-for-download/\n",
        "#URL = \"https://www.stats.govt.nz/large-datasets/csv-files-for-download/business-operations-survey-2022-business-finance.csv\"\n",
        "#Df = pd.read_csv('../business-operations-survey-2022-business-finance.csv')\n",
        "#Df = pd.read_csv(\"business-operations-survey-2022-business-finance.csv\")\n",
        "#Df = pd.read_csv(URL)\n",
        "\n",
        "#https://sample-videos.com/download-sample-csv.php\n",
        "#SampleCSVFile_11kb.csv\n",
        "\n",
        "#from google.colab import drive\n",
        "#drive.mount('/content/drive')\n",
        "\n",
        "#%cd gdrive/My Drive\n",
        "\n",
        "#Df= pd.read_csv('../Colab Notebooks/SampleCSVFile_11kb.csv')\n",
        "#Df\n",
        "\n",
        "Df = pd.DataFrame(np.random.randn(10,4), columns= ['a', 'b', 'c', 'd'])\n",
        "Df.head()\n",
        "\n",
        "X =Df['a'].sum()\n",
        "print(\"sum of colum a=:\", X)\n",
        "Df.describe()\n",
        "Df.info(memory_usage='deep')\n",
        "\n",
        "Df = Df.rename( { 'a':'name', 'b': 'age', 'c':'sex', 'd':'location'}, axis =1)    #  { }\n",
        "#Df = Df['sex'].fillna('m')\n",
        "Df.head(10)\n",
        "Df['name'].hist(bins=50)\n",
        "Df.to_csv('../Dframe1.csv')"
      ]
    },
    {
      "cell_type": "code",
      "source": [
        "import pandas as pd\n",
        "import numpy as np\n",
        "import requests\n",
        "\n",
        "\n",
        "#URL = 'http://bit.ly//drinksbyCountry'\n",
        "#URL = \"https://example.com/data.csv\"\n",
        "#Df = pd.read_csv(\"https://example.com/data.csv\")\n",
        "\n",
        "Drink = pd.read_csv(\"https://raw.githubusercontent.com/mwaskom/seaborn-data/master/tips.csv\")\n",
        "\n",
        "Drink.describe()\n",
        "Drink.info()\n",
        "\n",
        "Drink.head()\n",
        "\n",
        "Drink.to_csv('../Drinks244.csv ')"
      ],
      "metadata": {
        "colab": {
          "base_uri": "https://localhost:8080/"
        },
        "id": "SwAwYsPkaLJv",
        "outputId": "6f757ce6-3db7-4257-acd9-05867fe09c36"
      },
      "execution_count": null,
      "outputs": [
        {
          "output_type": "stream",
          "name": "stdout",
          "text": [
            "<class 'pandas.core.frame.DataFrame'>\n",
            "RangeIndex: 244 entries, 0 to 243\n",
            "Data columns (total 7 columns):\n",
            " #   Column      Non-Null Count  Dtype  \n",
            "---  ------      --------------  -----  \n",
            " 0   total_bill  244 non-null    float64\n",
            " 1   tip         244 non-null    float64\n",
            " 2   sex         244 non-null    object \n",
            " 3   smoker      244 non-null    object \n",
            " 4   day         244 non-null    object \n",
            " 5   time        244 non-null    object \n",
            " 6   size        244 non-null    int64  \n",
            "dtypes: float64(2), int64(1), object(4)\n",
            "memory usage: 13.5+ KB\n"
          ]
        }
      ]
    }
  ]
}